{
 "cells": [
  {
   "cell_type": "markdown",
   "metadata": {
    "slideshow": {
     "slide_type": "slide"
    }
   },
   "source": [
    "<h1>Welcome to the Dark Art of Coding:</h1>\n",
    "<h2>Introduction to Python</h2>\n",
    "Dictionaries"
   ]
  },
  {
   "cell_type": "markdown",
   "metadata": {
    "slideshow": {
     "slide_type": "slide"
    }
   },
   "source": [
    "<h1>Today's class</h1>\n",
    "<ul>\n",
    "<li><strong>Review and Questions?</strong></li>\n",
    "<li><strong>Objectives:</strong></li>\n",
    "<ul>\n",
    "    <li><strong>Define dictionaries</strong></li>\n",
    "    <li><strong>Explain how to get data into and out of dictionaries</strong></li>\n",
    "    <li><strong>Demonstrate pretty printing </strong></li>\n",
    "</ul>\n",
    "</ul>"
   ]
  },
  {
   "cell_type": "markdown",
   "metadata": {
    "slideshow": {
     "slide_type": "slide"
    }
   },
   "source": [
    "<h1>Review and Questions?</h1>\n",
    "<ul>\n",
    "  <li><strong>Lists</strong></li>\n",
    "  <ul> \n",
    "    <li><strong>What are lists?</strong></li>\n",
    "    <li><strong>How would you retrieve the second item in a list?</strong></li>\n",
    "    <li><strong>How would you retrieve the second to fifth items in a list?</strong></li>    \n",
    "    <li><strong>Using augmented assignment, how would you increment a variable by 1</strong></li>\n",
    "  </ul>\n",
    "  <li><strong>Methods</strong></li>\n",
    "  <ul>\n",
    "    <li><strong>What are three methods associated with lists?</strong></li>\n",
    "    <li><strong>If you have a list called 'mylist' how do you call the append() methods?</strong></li>\n",
    "  </ul>\n",
    "</ul>"
   ]
  },
  {
   "cell_type": "markdown",
   "metadata": {
    "slideshow": {
     "slide_type": "slide"
    }
   },
   "source": [
    "<h1>What is a dictionary?</h1>"
   ]
  },
  {
   "cell_type": "code",
   "execution_count": null,
   "metadata": {
    "collapsed": false,
    "slideshow": {
     "slide_type": "slide"
    }
   },
   "outputs": [],
   "source": [
    "contact = {'name': 'Arthur',\n",
    "           'number': '867-5309',\n",
    "           'email': 'genericEmail42@gmail.com'}\n",
    "contact\n",
    "\n",
    "# NOTE: dictionaries are unordered."
   ]
  },
  {
   "cell_type": "code",
   "execution_count": null,
   "metadata": {
    "collapsed": false,
    "slideshow": {
     "slide_type": "slide"
    }
   },
   "outputs": [],
   "source": [
    "# If we just want one item from a dict we access it the same way we access list items\n",
    "\n",
    "contact['name']"
   ]
  },
  {
   "cell_type": "markdown",
   "metadata": {
    "slideshow": {
     "slide_type": "slide"
    }
   },
   "source": [
    "<h1>Lists vs. Dicts</h1>"
   ]
  },
  {
   "cell_type": "code",
   "execution_count": null,
   "metadata": {
    "collapsed": false,
    "slideshow": {
     "slide_type": "subslide"
    }
   },
   "outputs": [],
   "source": [
    "# Storing the same data in a list is just about as easy however if the data gets too large\n",
    "# remembering which index goes to what item can be tough. And what happens if you want to\n",
    "# put more data at the beginning and it shifts every item down the line?\n",
    "\n",
    "contact_list = ['Arthur', '867-5309', 'genericEmail42@gmail.com']\n",
    "\n",
    "print(contact_list[0])"
   ]
  },
  {
   "cell_type": "code",
   "execution_count": null,
   "metadata": {
    "collapsed": false,
    "slideshow": {
     "slide_type": "fragment"
    }
   },
   "outputs": [],
   "source": [
    "# Earlier we made the same dictionary on multiple lines to make it easier to read but this is just as valid\n",
    "\n",
    "contact_dict = {'name': 'Arthur', 'number': '867-5309', 'email': 'genericEmail@gmail.com'}\n",
    "\n",
    "print(contact_dict['name'])"
   ]
  },
  {
   "cell_type": "markdown",
   "metadata": {
    "slideshow": {
     "slide_type": "slide"
    }
   },
   "source": [
    "<h1>XP Grind!</h1>\n",
    "<ol>\n",
    "<li>Create a dictionary with the following keys. Provide a value of your choosing to each key:</li>\n",
    "<ol>\n",
    "    <li>name</li>\n",
    "    <li>food</li>\n",
    "    <li>music</li>\n",
    "</ol>\n",
    "</ol>"
   ]
  },
  {
   "cell_type": "code",
   "execution_count": null,
   "metadata": {
    "collapsed": false,
    "slideshow": {
     "slide_type": "slide"
    }
   },
   "outputs": [],
   "source": [
    "# Lists have order associated with their items so if you create a list with a different order a comparison\n",
    "# will say they are not equivalent\n",
    "\n",
    "ex_list1 = ['val1', 'val2']\n",
    "ex_list2 = ['val2', 'val1']\n",
    "\n",
    "print('Are these lists equivalent: ', ex_list1 == ex_list2)"
   ]
  },
  {
   "cell_type": "code",
   "execution_count": null,
   "metadata": {
    "collapsed": false,
    "slideshow": {
     "slide_type": "fragment"
    }
   },
   "outputs": [],
   "source": [
    "# As noted previously... dictionaries are unordered. When creating them no order is associated with their\n",
    "# items so you can create them in whatever order you like and the two dictionaries will still be equivalent\n",
    "\n",
    "ex_dict1 = {'key1': 'val1', 'key2': 'val2'}\n",
    "ex_dict2 = {'key2': 'val2', 'key1': 'val1'}\n",
    "\n",
    "print('Are these dicts equivalent: ', ex_dict1 == ex_dict2)"
   ]
  },
  {
   "cell_type": "code",
   "execution_count": null,
   "metadata": {
    "collapsed": false,
    "slideshow": {
     "slide_type": "slide"
    }
   },
   "outputs": [],
   "source": [
    "# What happens if we try to access a key that doesn't exist?\n",
    "\n",
    "contact['address']"
   ]
  },
  {
   "cell_type": "code",
   "execution_count": null,
   "metadata": {
    "collapsed": false,
    "slideshow": {
     "slide_type": "subslide"
    }
   },
   "outputs": [],
   "source": [
    "# If we want to make a new key and assign it some value we can do it like this:\n",
    "\n",
    "character['address'] = ['42-503 Lorelana Dr.', 'Honolulu HI', '95746']\n",
    "character['address']"
   ]
  },
  {
   "cell_type": "markdown",
   "metadata": {
    "slideshow": {
     "slide_type": "slide"
    }
   },
   "source": [
    "# XP Grind!\n",
    "Create a new dictionary with the following keys. Provide a value of your choosing for each key BUT this time incorporate multiple datatypes such as integers, lists, etc:\n",
    "\n",
    "key | value type\n",
    ":---|:---\n",
    "name | str\n",
    "age | int\n",
    "favorite_foods | list\n",
    "favorite_songs | list"
   ]
  },
  {
   "cell_type": "markdown",
   "metadata": {},
   "source": [
    "When you complete this exercise, please put your green post-it on your monitor. \n",
    "\n",
    "If you want to continue on at your own-pace, please feel free to do so.\n",
    "\n",
    "<img src='../images/green_sticky.300px.png' width='200' style='float:left'>"
   ]
  },
  {
   "cell_type": "markdown",
   "metadata": {
    "slideshow": {
     "slide_type": "slide"
    }
   },
   "source": [
    "<h1>Keys(), Values(), Items()</h1>"
   ]
  },
  {
   "cell_type": "code",
   "execution_count": null,
   "metadata": {
    "collapsed": false,
    "slideshow": {
     "slide_type": "slide"
    }
   },
   "outputs": [],
   "source": [
    "print(character.keys())\n",
    "\n",
    "# the output of this is a view of the keys in character\n",
    "# it might resemble a list, but it has subtle differences..."
   ]
  },
  {
   "cell_type": "code",
   "execution_count": null,
   "metadata": {
    "collapsed": false,
    "slideshow": {
     "slide_type": "fragment"
    }
   },
   "outputs": [],
   "source": [
    "# We can iterate through the keys of a given dict\n",
    "\n",
    "for key in character.keys():\n",
    "    print(key)"
   ]
  },
  {
   "cell_type": "code",
   "execution_count": null,
   "metadata": {
    "collapsed": false,
    "slideshow": {
     "slide_type": "fragment"
    }
   },
   "outputs": [],
   "source": [
    "# There's a similar method that returns a set of values\n",
    "\n",
    "print(character.values())"
   ]
  },
  {
   "cell_type": "code",
   "execution_count": null,
   "metadata": {
    "collapsed": false,
    "slideshow": {
     "slide_type": "fragment"
    }
   },
   "outputs": [],
   "source": [
    "# You can iterate through this set as well\n",
    "\n",
    "for v in character.values():\n",
    "    print(v)"
   ]
  },
  {
   "cell_type": "code",
   "execution_count": null,
   "metadata": {
    "collapsed": false,
    "slideshow": {
     "slide_type": "slide"
    }
   },
   "outputs": [],
   "source": [
    "# What if you want both the keys and values (as pairs)\n",
    "\n",
    "for k, v in character.items():\n",
    "    print(k + \":\\t\", v)"
   ]
  },
  {
   "cell_type": "markdown",
   "metadata": {
    "slideshow": {
     "slide_type": "slide"
    }
   },
   "source": [
    "<h1>XP Grind!</h1>\n",
    "On the **IPython interpreter** do each of the following:\n",
    "\n",
    "Use your previous dict and print out the output of the following methods\n",
    "\n",
    "* .keys()\n",
    "* .values()\n",
    "* .items()"
   ]
  },
  {
   "cell_type": "markdown",
   "metadata": {},
   "source": [
    "When you complete this exercise, please put your green post-it on your monitor. \n",
    "\n",
    "If you want to continue on at your own-pace, please feel free to do so.\n",
    "\n",
    "<img src='../images/green_sticky.300px.png' width='200' style='float:left'>"
   ]
  },
  {
   "cell_type": "code",
   "execution_count": null,
   "metadata": {
    "collapsed": false,
    "slideshow": {
     "slide_type": "fragment"
    }
   },
   "outputs": [],
   "source": [
    "# If we want to get something when we're not sure if it exists but we know what\n",
    "# it means if there's nothing there we can't just ask\n",
    "\n",
    "contact['account_status']"
   ]
  },
  {
   "cell_type": "code",
   "execution_count": null,
   "metadata": {
    "collapsed": false,
    "slideshow": {
     "slide_type": "fragment"
    }
   },
   "outputs": [],
   "source": [
    "# .get() allows you to _get_ a default value back... but does not alter \n",
    "# the dictionary.\n",
    "\n",
    "contact.get('account_status', 'No account recorded')"
   ]
  },
  {
   "cell_type": "code",
   "execution_count": null,
   "metadata": {
    "collapsed": false,
    "slideshow": {
     "slide_type": "fragment"
    }
   },
   "outputs": [],
   "source": [
    "# Notice how the dictionary stays the same\n",
    "\n",
    "contact['account_status']"
   ]
  },
  {
   "cell_type": "code",
   "execution_count": null,
   "metadata": {
    "collapsed": false,
    "slideshow": {
     "slide_type": "slide"
    }
   },
   "outputs": [],
   "source": [
    "# .setdefault() on the other hand, allows you to _set_ a dictionary value\n",
    "# based on a default if the value does not already exist.\n",
    "\n",
    "contact.setdefault('account_status', 'No account')\n",
    "\n",
    "print(contact['account_status'])"
   ]
  },
  {
   "cell_type": "code",
   "execution_count": null,
   "metadata": {
    "collapsed": false,
    "slideshow": {
     "slide_type": "fragment"
    }
   },
   "outputs": [],
   "source": [
    "# if the value exists already, the setdefault() function simply reads the \n",
    "# existing value.\n",
    "\n",
    "contact.setdefault('account_status', 'Account created')"
   ]
  },
  {
   "cell_type": "code",
   "execution_count": null,
   "metadata": {
    "collapsed": false,
    "slideshow": {
     "slide_type": "slide"
    }
   },
   "outputs": [],
   "source": [
    "# notice that contact now has a value for the 'account_status' key.\n",
    "\n",
    "print(contact)"
   ]
  },
  {
   "cell_type": "markdown",
   "metadata": {},
   "source": [
    "# Counting objects using dictionaries"
   ]
  },
  {
   "cell_type": "code",
   "execution_count": 2,
   "metadata": {
    "collapsed": false
   },
   "outputs": [
    {
     "name": "stdout",
     "output_type": "stream",
     "text": [
      "{'u': 3, 'f': 2, 'n': 3, 'c': 4, 'l': 2, 'e': 4, ' ': 15, 'r': 3, 's': 6, 'h': 3, 'w': 1, 'a': 1, 'o': 8, 'b': 1, 't': 9, 'g': 2, 'm': 1, 'i': 5}\n"
     ]
    }
   ],
   "source": [
    "# Say we get in a list of items and we want to see which letters have th highest count\n",
    "\n",
    "mList = list('this is going to be a list for us to count which letter occurs most often')\n",
    "\n",
    "count = {} # We create our counting dict\n",
    "\n",
    "for item in mList:\n",
    "    if item in count.keys():   # We check to see if we've already made a key for this item\n",
    "        count[item] += 1       # Then we add one to the tally\n",
    "    else:                      # If it hasn't shown up then we create a key for that item and set its value to 1\n",
    "        count[item] = 1\n",
    "\n",
    "print(count)"
   ]
  },
  {
   "cell_type": "code",
   "execution_count": null,
   "metadata": {
    "collapsed": false
   },
   "outputs": [],
   "source": [
    "# This method is a lot simpler\n",
    "\n",
    "mList = list('this is going to be a list for us to count which letter occurs most often')\n",
    "\n",
    "count = {}\n",
    "\n",
    "for item in mList:\n",
    "    count[item] = count.get(item, 0) + 1    # Using the get method we don't need to have a value there\n",
    "                                            # already because if it isn't there it evaluates to 0\n",
    "                                            # by default\n",
    "print(count)"
   ]
  },
  {
   "cell_type": "markdown",
   "metadata": {
    "slideshow": {
     "slide_type": "slide"
    }
   },
   "source": [
    "# XP Grind!\n",
    "\n",
    "In your **text editor** create a simple script called:\n",
    "\n",
    "`dicts_01.py`\n",
    "\n",
    "Execute your script in the **IPython interpreter** using the command:\n",
    "\n",
    "`run dicts_01.py`\n",
    "\n",
    "* Create a dictionary called: `user`\n",
    "* Have a for loop iterate through a list of the following strings: `['Name', 'Phone', 'City', 'State']`\n",
    "* In each iteration:\n",
    "    * use the current item from the list as a key in the dictionary `user`\n",
    "    * get `input()` from the user and store that as the value for the key\n",
    "* Print out `user`"
   ]
  },
  {
   "cell_type": "markdown",
   "metadata": {},
   "source": [
    "When you complete this exercise, please put your green post-it on your monitor. \n",
    "\n",
    "If you want to continue on at your own-pace, please feel free to do so.\n",
    "\n",
    "<img src='../images/green_sticky.300px.png' width='200' style='float:left'>"
   ]
  },
  {
   "cell_type": "code",
   "execution_count": null,
   "metadata": {
    "collapsed": false,
    "slideshow": {
     "slide_type": "slide"
    }
   },
   "outputs": [],
   "source": [
    "user = {}\n",
    "for item in ['Name', 'Phone', 'City', 'State']:\n",
    "    user[item] = input('What is your current ' + item + ': ')\n",
    "\n",
    "print(user)"
   ]
  },
  {
   "cell_type": "markdown",
   "metadata": {
    "collapsed": false,
    "slideshow": {
     "slide_type": "slide"
    }
   },
   "source": [
    "# Pretty Printing\n",
    "\n",
    "There's a special module used to help disply large amounts of data that can sometimes be difficult to read"
   ]
  },
  {
   "cell_type": "code",
   "execution_count": null,
   "metadata": {
    "collapsed": false,
    "slideshow": {
     "slide_type": "slide"
    }
   },
   "outputs": [],
   "source": [
    "# When we run this it's going to take every item pair and put it on it's own\n",
    "# line making it much easier to digest\n",
    "\n",
    "import pprint\n",
    "pprint.pprint(contact)"
   ]
  },
  {
   "cell_type": "code",
   "execution_count": null,
   "metadata": {
    "collapsed": false,
    "slideshow": {
     "slide_type": "subslide"
    }
   },
   "outputs": [],
   "source": [
    "# .pformat() allows you to capture the pprint() formatting for later use.\n",
    "\n",
    "text = pprint.pformat(contact)\n",
    "\n",
    "print(text)"
   ]
  }
 ],
 "metadata": {
  "anaconda-cloud": {},
  "celltoolbar": "Slideshow",
  "kernelspec": {
   "display_name": "Python 3",
   "language": "python",
   "name": "python3"
  },
  "language_info": {
   "codemirror_mode": {
    "name": "ipython",
    "version": 3
   },
   "file_extension": ".py",
   "mimetype": "text/x-python",
   "name": "python",
   "nbconvert_exporter": "python",
   "pygments_lexer": "ipython3",
   "version": "3.4.5"
  }
 },
 "nbformat": 4,
 "nbformat_minor": 0
}
