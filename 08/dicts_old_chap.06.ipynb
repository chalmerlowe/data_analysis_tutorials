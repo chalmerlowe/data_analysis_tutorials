{
 "cells": [
  {
   "cell_type": "markdown",
   "metadata": {
    "slideshow": {
     "slide_type": "slide"
    }
   },
   "source": [
    "<h1>Welcome to the Dark Art of Coding:</h1>\n",
    "<h2>Introduction to Python</h2>\n",
    "Chapter 06: Dictionaries and other data"
   ]
  },
  {
   "cell_type": "markdown",
   "metadata": {
    "slideshow": {
     "slide_type": "slide"
    }
   },
   "source": [
    "<h1>Today's class</h1>\n",
    "<ul>\n",
    "<li><strong>Review and Questions?</strong></li>\n",
    "<li><strong>Objectives:</strong></li>\n",
    "<ul>\n",
    "    <li><strong>Define dictionaries</strong></li>\n",
    "    <li><strong>Explain how to get data into and out of dictionaries</strong></li>\n",
    "    <li><strong>Demonstrate pretty printing </strong></li>\n",
    "    <li><strong>Model real world data using dictionaries</strong></li>\n",
    "</ul>\n",
    "   <li><strong>In-class Practice</strong></li>\n",
    "   <li><strong>Homework Assignment</strong></li>\n",
    "</ul>"
   ]
  },
  {
   "cell_type": "markdown",
   "metadata": {
    "slideshow": {
     "slide_type": "slide"
    }
   },
   "source": [
    "<h1>Review and Questions?</h1>\n",
    "<ul>\n",
    "  <li><strong>Lists</strong></li>\n",
    "  <ul> \n",
    "    <li><strong>What are lists?</strong></li>\n",
    "    <li><strong>How would you retrieve the second item in a list?</strong></li>\n",
    "    <li><strong>How would you retrieve the second to fifth items in a list?</strong></li>    \n",
    "    <li><strong>Using augmented assignment, how would you increment a variable by 1</strong></li>\n",
    "  </ul>\n",
    "  <li><strong>Methods</strong></li>\n",
    "  <ul>\n",
    "    <li><strong>What are three methods associated with lists?</strong></li>\n",
    "    <li><strong>If you have a list called 'mylist' how do you call the append() methods?</strong></li>\n",
    "  </ul>\n",
    "</ul>"
   ]
  },
  {
   "cell_type": "markdown",
   "metadata": {
    "slideshow": {
     "slide_type": "slide"
    }
   },
   "source": [
    "<h1>What is a dictionary?</h1>"
   ]
  },
  {
   "cell_type": "code",
   "execution_count": 45,
   "metadata": {
    "collapsed": false,
    "slideshow": {
     "slide_type": "slide"
    }
   },
   "outputs": [
    {
     "data": {
      "text/plain": [
       "{'armor': 'Steel Armor', 'name': 'Arthur', 'weapon': 'Gold Sword'}"
      ]
     },
     "execution_count": 45,
     "metadata": {},
     "output_type": "execute_result"
    }
   ],
   "source": [
    "character = {'name': 'Arthur',\n",
    "             'weapon': 'Gold Sword',\n",
    "             'armor': 'Steel Armor'}\n",
    "character\n",
    "\n",
    "# NOTE: dictionaries are unordered."
   ]
  },
  {
   "cell_type": "code",
   "execution_count": 46,
   "metadata": {
    "collapsed": false,
    "slideshow": {
     "slide_type": "slide"
    }
   },
   "outputs": [
    {
     "data": {
      "text/plain": [
       "'Gold Sword'"
      ]
     },
     "execution_count": 46,
     "metadata": {},
     "output_type": "execute_result"
    }
   ],
   "source": [
    "character['weapon']"
   ]
  },
  {
   "cell_type": "markdown",
   "metadata": {
    "slideshow": {
     "slide_type": "slide"
    }
   },
   "source": [
    "<h1>Lists vs. Dicts</h1>"
   ]
  },
  {
   "cell_type": "code",
   "execution_count": 47,
   "metadata": {
    "collapsed": false,
    "slideshow": {
     "slide_type": "subslide"
    }
   },
   "outputs": [
    {
     "name": "stdout",
     "output_type": "stream",
     "text": [
      "Arthur\n"
     ]
    }
   ],
   "source": [
    "character_list = ['Arthur', 'gold sword', 'steel armor']\n",
    "\n",
    "print(character_list[0])"
   ]
  },
  {
   "cell_type": "code",
   "execution_count": 48,
   "metadata": {
    "collapsed": false,
    "slideshow": {
     "slide_type": "fragment"
    }
   },
   "outputs": [
    {
     "name": "stdout",
     "output_type": "stream",
     "text": [
      "Arthur\n"
     ]
    }
   ],
   "source": [
    "character_dict = {'name': 'Arthur', 'weapon': 'gold sword', 'armor': 'steel armor'}\n",
    "\n",
    "print(character_dict['name'])"
   ]
  },
  {
   "cell_type": "markdown",
   "metadata": {
    "slideshow": {
     "slide_type": "slide"
    }
   },
   "source": [
    "<h1>XP Grind!</h1>\n",
    "<ol>\n",
    "<li>Create a dictionary with the following keys. Provide a value of your choosing to each key:</li>\n",
    "<ol>\n",
    "    <li>name</li>\n",
    "    <li>food</li>\n",
    "    <li>music</li>\n",
    "</ol>\n",
    "</ol>"
   ]
  },
  {
   "cell_type": "code",
   "execution_count": 49,
   "metadata": {
    "collapsed": false,
    "slideshow": {
     "slide_type": "slide"
    }
   },
   "outputs": [
    {
     "name": "stdout",
     "output_type": "stream",
     "text": [
      "Are these lists equivalent:  False\n"
     ]
    }
   ],
   "source": [
    "ex_list1 = ['val1', 'val2']\n",
    "ex_list2 = ['val2', 'val1']\n",
    "\n",
    "print('Are these lists equivalent: ', ex_list1 == ex_list2)"
   ]
  },
  {
   "cell_type": "code",
   "execution_count": 50,
   "metadata": {
    "collapsed": false,
    "slideshow": {
     "slide_type": "fragment"
    }
   },
   "outputs": [
    {
     "name": "stdout",
     "output_type": "stream",
     "text": [
      "Are these dicts equivalent:  True\n"
     ]
    }
   ],
   "source": [
    "# As noted previously... dictionaries are unordered.\n",
    "\n",
    "ex_dict1 = {'key1': 'val1', 'key2': 'val2'}\n",
    "ex_dict2 = {'key2': 'val2', 'key1': 'val1'}\n",
    "\n",
    "print('Are these dicts equivalent: ', ex_dict1 == ex_dict2)"
   ]
  },
  {
   "cell_type": "code",
   "execution_count": 51,
   "metadata": {
    "collapsed": false,
    "slideshow": {
     "slide_type": "slide"
    }
   },
   "outputs": [
    {
     "ename": "KeyError",
     "evalue": "'spells'",
     "output_type": "error",
     "traceback": [
      "\u001b[0;31m---------------------------------------------------------------------------\u001b[0m",
      "\u001b[0;31mKeyError\u001b[0m                                  Traceback (most recent call last)",
      "\u001b[0;32m<ipython-input-51-74d1fc501ea6>\u001b[0m in \u001b[0;36m<module>\u001b[0;34m()\u001b[0m\n\u001b[0;32m----> 1\u001b[0;31m \u001b[0mcharacter\u001b[0m\u001b[0;34m[\u001b[0m\u001b[0;34m'spells'\u001b[0m\u001b[0;34m]\u001b[0m\u001b[0;34m\u001b[0m\u001b[0m\n\u001b[0m",
      "\u001b[0;31mKeyError\u001b[0m: 'spells'"
     ]
    }
   ],
   "source": [
    "character['spells']"
   ]
  },
  {
   "cell_type": "code",
   "execution_count": 52,
   "metadata": {
    "collapsed": false,
    "slideshow": {
     "slide_type": "subslide"
    }
   },
   "outputs": [
    {
     "data": {
      "text/plain": [
       "['fireball', 'lightning', 'summon dragon']"
      ]
     },
     "execution_count": 52,
     "metadata": {},
     "output_type": "execute_result"
    }
   ],
   "source": [
    "character['spells'] = ['fireball', 'lightning', 'summon dragon']\n",
    "character['spells']"
   ]
  },
  {
   "cell_type": "markdown",
   "metadata": {
    "slideshow": {
     "slide_type": "slide"
    }
   },
   "source": [
    "<h1>XP Grind!</h1>\n",
    "<ol>\n",
    "<li>Create a new dictionary with the following keys. Provide a value of your choosing for each key BUT this time incorporate multiple datatypes such as integers, lists, etc:</li>\n",
    "<ol>\n",
    "    <li>name (str)</li>\n",
    "    <li>age (int)</li>\n",
    "    <li>favorite_foods (list)</li>\n",
    "    <li>favorite_songs (list)</li>\n",
    "</ol>\n",
    "</ol>"
   ]
  },
  {
   "cell_type": "markdown",
   "metadata": {
    "slideshow": {
     "slide_type": "slide"
    }
   },
   "source": [
    "<h1>Keys(), Values(), Items()</h1>"
   ]
  },
  {
   "cell_type": "code",
   "execution_count": 53,
   "metadata": {
    "collapsed": false,
    "slideshow": {
     "slide_type": "slide"
    }
   },
   "outputs": [
    {
     "name": "stdout",
     "output_type": "stream",
     "text": [
      "dict_keys(['spells', 'name', 'weapon', 'armor'])\n"
     ]
    }
   ],
   "source": [
    "print(character.keys())\n",
    "\n",
    "# the output of this is a view of the keys in character\n",
    "# it might resemble a list, but it has subtle differences..."
   ]
  },
  {
   "cell_type": "code",
   "execution_count": 54,
   "metadata": {
    "collapsed": false,
    "slideshow": {
     "slide_type": "fragment"
    }
   },
   "outputs": [
    {
     "name": "stdout",
     "output_type": "stream",
     "text": [
      "spells\n",
      "name\n",
      "weapon\n",
      "armor\n"
     ]
    }
   ],
   "source": [
    "for key in character.keys():\n",
    "    print(key)"
   ]
  },
  {
   "cell_type": "code",
   "execution_count": 55,
   "metadata": {
    "collapsed": false,
    "slideshow": {
     "slide_type": "fragment"
    }
   },
   "outputs": [
    {
     "name": "stdout",
     "output_type": "stream",
     "text": [
      "dict_values([['fireball', 'lightning', 'summon dragon'], 'Arthur', 'Gold Sword', 'Steel Armor'])\n"
     ]
    }
   ],
   "source": [
    "print(character.values())"
   ]
  },
  {
   "cell_type": "code",
   "execution_count": 56,
   "metadata": {
    "collapsed": false,
    "slideshow": {
     "slide_type": "fragment"
    }
   },
   "outputs": [
    {
     "name": "stdout",
     "output_type": "stream",
     "text": [
      "['fireball', 'lightning', 'summon dragon']\n",
      "Arthur\n",
      "Gold Sword\n",
      "Steel Armor\n"
     ]
    }
   ],
   "source": [
    "for v in character.values():\n",
    "    print(v)"
   ]
  },
  {
   "cell_type": "code",
   "execution_count": 57,
   "metadata": {
    "collapsed": false,
    "slideshow": {
     "slide_type": "slide"
    }
   },
   "outputs": [
    {
     "name": "stdout",
     "output_type": "stream",
     "text": [
      "spells:\t ['fireball', 'lightning', 'summon dragon']\n",
      "name:\t Arthur\n",
      "weapon:\t Gold Sword\n",
      "armor:\t Steel Armor\n"
     ]
    }
   ],
   "source": [
    "# What if you want both the keys and values (as pairs)\n",
    "\n",
    "for k, v in character.items():\n",
    "    print(k + \":\\t\", v)"
   ]
  },
  {
   "cell_type": "markdown",
   "metadata": {
    "slideshow": {
     "slide_type": "slide"
    }
   },
   "source": [
    "<h1>XP Grind!</h1>\n",
    "<ol>\n",
    "<li>Using your previous dictionary, print to the screen the following items:</li>\n",
    "<ol>\n",
    "    <li>*.keys()</li>\n",
    "    <li>*.values()</li>\n",
    "    <li>*.items()</li>\n",
    "</ol>\n",
    "</ol>"
   ]
  },
  {
   "cell_type": "code",
   "execution_count": 58,
   "metadata": {
    "collapsed": false,
    "slideshow": {
     "slide_type": "slide"
    }
   },
   "outputs": [
    {
     "data": {
      "text/plain": [
       "'Gold Sword'"
      ]
     },
     "execution_count": 58,
     "metadata": {},
     "output_type": "execute_result"
    }
   ],
   "source": [
    "character['weapon']"
   ]
  },
  {
   "cell_type": "code",
   "execution_count": 59,
   "metadata": {
    "collapsed": false,
    "slideshow": {
     "slide_type": "fragment"
    }
   },
   "outputs": [
    {
     "ename": "KeyError",
     "evalue": "'gold'",
     "output_type": "error",
     "traceback": [
      "\u001b[0;31m---------------------------------------------------------------------------\u001b[0m",
      "\u001b[0;31mKeyError\u001b[0m                                  Traceback (most recent call last)",
      "\u001b[0;32m<ipython-input-59-bf392603694a>\u001b[0m in \u001b[0;36m<module>\u001b[0;34m()\u001b[0m\n\u001b[0;32m----> 1\u001b[0;31m \u001b[0mcharacter\u001b[0m\u001b[0;34m[\u001b[0m\u001b[0;34m'gold'\u001b[0m\u001b[0;34m]\u001b[0m\u001b[0;34m\u001b[0m\u001b[0m\n\u001b[0m",
      "\u001b[0;31mKeyError\u001b[0m: 'gold'"
     ]
    }
   ],
   "source": [
    "character['gold']"
   ]
  },
  {
   "cell_type": "code",
   "execution_count": 60,
   "metadata": {
    "collapsed": false,
    "slideshow": {
     "slide_type": "fragment"
    }
   },
   "outputs": [
    {
     "data": {
      "text/plain": [
       "'You have no money'"
      ]
     },
     "execution_count": 60,
     "metadata": {},
     "output_type": "execute_result"
    }
   ],
   "source": [
    "# .get() allows you to _get_ a default value back... but does not alter \n",
    "# the dictionary.\n",
    "\n",
    "character.get('gold', 'You have no money')"
   ]
  },
  {
   "cell_type": "code",
   "execution_count": 61,
   "metadata": {
    "collapsed": false,
    "slideshow": {
     "slide_type": "fragment"
    }
   },
   "outputs": [
    {
     "ename": "KeyError",
     "evalue": "'gold'",
     "output_type": "error",
     "traceback": [
      "\u001b[0;31m---------------------------------------------------------------------------\u001b[0m",
      "\u001b[0;31mKeyError\u001b[0m                                  Traceback (most recent call last)",
      "\u001b[0;32m<ipython-input-61-bf392603694a>\u001b[0m in \u001b[0;36m<module>\u001b[0;34m()\u001b[0m\n\u001b[0;32m----> 1\u001b[0;31m \u001b[0mcharacter\u001b[0m\u001b[0;34m[\u001b[0m\u001b[0;34m'gold'\u001b[0m\u001b[0;34m]\u001b[0m\u001b[0;34m\u001b[0m\u001b[0m\n\u001b[0m",
      "\u001b[0;31mKeyError\u001b[0m: 'gold'"
     ]
    }
   ],
   "source": [
    "character['gold']"
   ]
  },
  {
   "cell_type": "code",
   "execution_count": 62,
   "metadata": {
    "collapsed": false,
    "slideshow": {
     "slide_type": "slide"
    }
   },
   "outputs": [
    {
     "name": "stdout",
     "output_type": "stream",
     "text": [
      "0\n"
     ]
    }
   ],
   "source": [
    "# .setdefault() on the other hand, allows you to _set_ a dictionary value\n",
    "# based on a default if the value does not already exist.\n",
    "\n",
    "character.setdefault('gold', 0)\n",
    "\n",
    "print(character['gold'])"
   ]
  },
  {
   "cell_type": "code",
   "execution_count": 64,
   "metadata": {
    "collapsed": false,
    "slideshow": {
     "slide_type": "fragment"
    }
   },
   "outputs": [
    {
     "data": {
      "text/plain": [
       "0"
      ]
     },
     "execution_count": 64,
     "metadata": {},
     "output_type": "execute_result"
    }
   ],
   "source": [
    "# if the value exists already, the setdefault() function simply reads the \n",
    "# existing value.\n",
    "\n",
    "character.setdefault('gold', 50)"
   ]
  },
  {
   "cell_type": "code",
   "execution_count": 26,
   "metadata": {
    "collapsed": false,
    "slideshow": {
     "slide_type": "slide"
    }
   },
   "outputs": [
    {
     "name": "stdout",
     "output_type": "stream",
     "text": [
      "{'gold': 0, 'armor': 'Steel Armor', 'spells': ['fireball', 'lightning', 'summon dragon'], 'weapon': 'Gold Sword', 'name': 'Arthur'}\n"
     ]
    }
   ],
   "source": [
    "# notice that character now has a value for the 'gold' key.\n",
    "\n",
    "print(character)"
   ]
  },
  {
   "cell_type": "markdown",
   "metadata": {
    "slideshow": {
     "slide_type": "slide"
    }
   },
   "source": [
    "<h1>XP Grind!</h1>\n",
    "<ol>\n",
    "<li>Create a dictionary called: <code>equipped</code></li>\n",
    "<li>Have a for loop iterate through a list of the following strings: <code>['armor', 'helmet', 'ring', 'weapon']</code></li>\n",
    "<li>In each iteration:\n",
    "<ul>\n",
    "    <li>use the current item from the list as a key in the dictionary <code>equipped</code> </li>\n",
    "    <li>get input() from the user and store that as the value for the key</li>\n",
    "</ul>\n",
    "<li>Print out <code>equipped</code></li>\n",
    "</ol>"
   ]
  },
  {
   "cell_type": "code",
   "execution_count": 65,
   "metadata": {
    "collapsed": false,
    "slideshow": {
     "slide_type": "slide"
    }
   },
   "outputs": [
    {
     "name": "stdout",
     "output_type": "stream",
     "text": [
      "What would you like for your armor: padded\n",
      "What would you like for your weapon: sword\n",
      "What would you like for your ring: health\n",
      "What would you like for your helmet: spiked\n",
      "{'ring': 'health', 'armor': 'padded', 'weapon': 'sword', 'helmet': 'spiked'}\n"
     ]
    }
   ],
   "source": [
    "equipped = {}\n",
    "for item in ['armor', 'weapon', 'ring', 'helmet']:\n",
    "    equipped[item] = input('What would you like for your ' + item + ': ')\n",
    "\n",
    "print(equipped)"
   ]
  },
  {
   "cell_type": "markdown",
   "metadata": {
    "collapsed": false,
    "slideshow": {
     "slide_type": "slide"
    }
   },
   "source": [
    "<h1>Pretty Printing</h1>"
   ]
  },
  {
   "cell_type": "code",
   "execution_count": 28,
   "metadata": {
    "collapsed": false,
    "slideshow": {
     "slide_type": "slide"
    }
   },
   "outputs": [
    {
     "name": "stdout",
     "output_type": "stream",
     "text": [
      "{'armor': 'Steel Armor',\n",
      " 'gold': 0,\n",
      " 'name': 'Arthur',\n",
      " 'spells': ['fireball', 'lightning', 'summon dragon'],\n",
      " 'weapon': 'Gold Sword'}\n"
     ]
    }
   ],
   "source": [
    "import pprint\n",
    "pprint.pprint(character)"
   ]
  },
  {
   "cell_type": "code",
   "execution_count": 29,
   "metadata": {
    "collapsed": false,
    "slideshow": {
     "slide_type": "subslide"
    }
   },
   "outputs": [
    {
     "name": "stdout",
     "output_type": "stream",
     "text": [
      "{'armor': 'Steel Armor',\n",
      " 'gold': 0,\n",
      " 'name': 'Arthur',\n",
      " 'spells': ['fireball', 'lightning', 'summon dragon'],\n",
      " 'weapon': 'Gold Sword'}\n"
     ]
    }
   ],
   "source": [
    "# .pformat() allows you to capture the pprint() formatting for later use.\n",
    "\n",
    "text = pprint.pformat(character)\n",
    "\n",
    "print(text)"
   ]
  },
  {
   "cell_type": "markdown",
   "metadata": {
    "slideshow": {
     "slide_type": "slide"
    }
   },
   "source": [
    "<h1>XP Grind!</h1>\n",
    "<ol>\n",
    "<li>Using your previous dictionary, use pretty print to display to the screen your dictionary.</li>\n",
    "</ol>"
   ]
  },
  {
   "cell_type": "markdown",
   "metadata": {
    "slideshow": {
     "slide_type": "slide"
    }
   },
   "source": [
    "<h1>End of Day Class Work</h1>\n",
    "<h2>We will be working toward an end of semester project. At the end of each class period, you will spend time on that project.<h2>"
   ]
  }
 ],
 "metadata": {
  "anaconda-cloud": {},
  "celltoolbar": "Slideshow",
  "kernelspec": {
   "display_name": "Python [default]",
   "language": "python",
   "name": "python3"
  },
  "language_info": {
   "codemirror_mode": {
    "name": "ipython",
    "version": 3
   },
   "file_extension": ".py",
   "mimetype": "text/x-python",
   "name": "python",
   "nbconvert_exporter": "python",
   "pygments_lexer": "ipython3",
   "version": "3.5.3"
  }
 },
 "nbformat": 4,
 "nbformat_minor": 0
}
