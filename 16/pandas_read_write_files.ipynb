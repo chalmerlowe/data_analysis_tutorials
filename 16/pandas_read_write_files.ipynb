{
 "cells": [
  {
   "cell_type": "markdown",
   "metadata": {},
   "source": [
    "# Welcome to the Dark Art of Coding:\n",
    "## Introduction to Python\n",
    "pandas: reading in files\n",
    "\n",
    "<img src='../images/dark_art_logo.600px.png' width='300' style=\"float:right\">"
   ]
  },
  {
   "cell_type": "markdown",
   "metadata": {},
   "source": [
    "# Importing pandas, etc\n",
    "---"
   ]
  },
  {
   "cell_type": "markdown",
   "metadata": {
    "collapsed": true
   },
   "source": [
    "When using pandas, it is common to import pandas as `pd` and to simply import the factory functions: `Series` and `DataFrames`"
   ]
  },
  {
   "cell_type": "code",
   "execution_count": 1,
   "metadata": {
    "collapsed": true
   },
   "outputs": [],
   "source": [
    "import pandas as pd\n",
    "from pandas import Series, DataFrame"
   ]
  },
  {
   "cell_type": "markdown",
   "metadata": {
    "collapsed": true
   },
   "source": [
    "Pandas is adept at reading in many, many data formats \n",
    "\n",
    "To see which ones, you can type pd.read and use **tab completion**\n",
    "\n",
    "```python\n",
    "pd.read<Press the tab key>\n",
    "```"
   ]
  },
  {
   "cell_type": "code",
   "execution_count": null,
   "metadata": {
    "collapsed": true
   },
   "outputs": [],
   "source": [
    "pd.read"
   ]
  },
  {
   "cell_type": "markdown",
   "metadata": {},
   "source": [
    "# Reading from the clipboard\n",
    "---"
   ]
  },
  {
   "cell_type": "markdown",
   "metadata": {
    "collapsed": true
   },
   "source": [
    "Let's start by reading from the clipboard after we copy data from a table on a webpage.\n",
    "\n",
    "There is a sample file in the folder called:\n",
    "\n",
    "```bash\n",
    "sample_table.html\n",
    "```\n",
    "\n",
    "IF you open this file with your browser, you will see a table. Copying this table to the clipboard, allows you to read in the content to pandas directly.\n"
   ]
  },
  {
   "cell_type": "code",
   "execution_count": null,
   "metadata": {
    "collapsed": true
   },
   "outputs": [],
   "source": [
    "webdata = pd.read_clipboard()\n",
    "webdata"
   ]
  },
  {
   "cell_type": "markdown",
   "metadata": {
    "collapsed": true
   },
   "source": [
    "This produces a DataFrame in memory. As with all DataFrames, you can access:\n",
    "\n",
    "* the columns\n",
    "* the rows\n",
    "* the `.attributes`\n",
    "* the `.methods()` \n",
    "\n",
    "Try these on your IPython interface:\n",
    "\n",
    "* webdata.C<press the tab key>\n",
    "* webdata.Column1"
   ]
  },
  {
   "cell_type": "markdown",
   "metadata": {},
   "source": [
    "# Reading from CSV\n",
    "---"
   ]
  },
  {
   "cell_type": "markdown",
   "metadata": {},
   "source": [
    "We will focus on `csv` and `sql` for remainder of this discussion\n",
    "Let's dive into `csv` first.\n",
    "\n",
    "To read from `csv` files, we use the `.read_csv()` method."
   ]
  },
  {
   "cell_type": "code",
   "execution_count": null,
   "metadata": {
    "collapsed": true
   },
   "outputs": [],
   "source": [
    "# In the results, notice the column headers.\n",
    "# By default, pandas will use the first\n",
    "#     row as a header row...  \n",
    "#     thus 'barry allen' shows up a the header for column 1.\n",
    "# Maybe NOT what you want..."
   ]
  },
  {
   "cell_type": "code",
   "execution_count": null,
   "metadata": {
    "collapsed": true
   },
   "outputs": [],
   "source": [
    "data = pd.read_csv('log_file.csv')\n",
    "data"
   ]
  },
  {
   "cell_type": "code",
   "execution_count": null,
   "metadata": {
    "collapsed": true
   },
   "outputs": [],
   "source": [
    "# if we include a list of names in the function\n",
    "# call, pandas will use those as the headers,\n",
    "# instead of the first row."
   ]
  },
  {
   "cell_type": "code",
   "execution_count": null,
   "metadata": {
    "collapsed": true
   },
   "outputs": [],
   "source": [
    "named_cols = pd.read_csv('log_file.csv',\n",
    "                         names=['name', \n",
    "                                'email', \n",
    "                                'fmip', \n",
    "                                'toip',\n",
    "                                'datetime', \n",
    "                                'lat', \n",
    "                                'long', \n",
    "                                'payload'])"
   ]
  },
  {
   "cell_type": "code",
   "execution_count": null,
   "metadata": {
    "collapsed": true
   },
   "outputs": [],
   "source": [
    "# The .info() method shows us some details \n",
    "#     about our new DataFrame\n",
    "\n",
    "named_cols.info()"
   ]
  },
  {
   "cell_type": "markdown",
   "metadata": {
    "collapsed": true
   },
   "source": [
    "It is not necessary to ingest all the lines from a file. \n",
    "\n",
    "Presuming that certain lines lack useful information... \n",
    "\n",
    "* metadata\n",
    "* header lines\n",
    "* document data, etc.\n",
    "\n",
    "In this case, let's skip rows 1, 2, 3, 7, and 9 from the csv."
   ]
  },
  {
   "cell_type": "code",
   "execution_count": null,
   "metadata": {
    "collapsed": true
   },
   "outputs": [],
   "source": [
    "skipped_rows = pd.read_csv('log_file.csv', \n",
    "                           names=['name', 'email', 'fmip', 'toip',\n",
    "                                  'datetime', 'lat', 'long', 'payload'],\n",
    "                           skiprows=[1, 2, 3, 7, 9])\n",
    "\n",
    "# And let's look at just one of the columns.\n",
    "skipped_rows.fmip"
   ]
  },
  {
   "cell_type": "markdown",
   "metadata": {},
   "source": [
    "You may receive files with alternate separators/delimiters. Pandas gives you tools to  \n",
    "deal with this situation. "
   ]
  },
  {
   "cell_type": "code",
   "execution_count": null,
   "metadata": {
    "collapsed": true
   },
   "outputs": [],
   "source": [
    "# This file uses a 'pipe' character as the separator.\n",
    "\n",
    "piped_data = pd.read_csv('log_file_pipes.csv',\n",
    "                         names=['name', 'email', 'fmip',\n",
    "                                'toip', 'datetime', 'lat',\n",
    "                                'long', 'payload'],\n",
    "                         sep='|')"
   ]
  },
  {
   "cell_type": "code",
   "execution_count": null,
   "metadata": {
    "collapsed": true
   },
   "outputs": [],
   "source": [
    "# There are builtin tools that let you \n",
    "#     examine subsets of the data and can\n",
    "#     help you get a sense of what the data\n",
    "#     looks like, without displaying all the \n",
    "#     data to the screen.\n",
    "\n",
    "# piped_data.tail(3)\n",
    "piped_data.head(4)"
   ]
  },
  {
   "cell_type": "markdown",
   "metadata": {},
   "source": [
    "## Indexing"
   ]
  },
  {
   "cell_type": "markdown",
   "metadata": {
    "collapsed": true
   },
   "source": [
    "When reading in data, `pandas` assigns a default index of `0..n`. Sometimes we want to use something different than the default indexing.\n",
    "\n",
    "We **can choose** a particular column to be used as an index.\n",
    "\n",
    "Here we chose to use the `datetime` column"
   ]
  },
  {
   "cell_type": "code",
   "execution_count": null,
   "metadata": {
    "collapsed": true
   },
   "outputs": [],
   "source": [
    "import pandas as pd\n",
    "date_index = pd.read_csv('log_file.csv', \n",
    "                         names=['name', 'email', 'fmip', 'toip',\n",
    "                                'datetime', 'lat', 'long', 'payload'],\n",
    "                         index_col='datetime')"
   ]
  },
  {
   "cell_type": "code",
   "execution_count": null,
   "metadata": {
    "collapsed": true
   },
   "outputs": [],
   "source": [
    "# If we have an index, we can select data from the DataFrame\n",
    "# based on the index. In this case, since we just made the\n",
    "# date/time our index, we can\n",
    "# easily select rows based on the date/time stamps\n",
    "\n",
    "date_index.ix['2016-02-06T21:44:56':'2016-02-06T21:49:36']\n",
    "\n",
    "# NOTE: we get a deprecation warning..."
   ]
  },
  {
   "cell_type": "code",
   "execution_count": null,
   "metadata": {
    "collapsed": true
   },
   "outputs": [],
   "source": [
    "date_index.loc['2016-02-06T21:44:56':'2016-02-06T21:49:36']"
   ]
  },
  {
   "cell_type": "markdown",
   "metadata": {},
   "source": [
    "# Experience Points!\n",
    "---"
   ]
  },
  {
   "cell_type": "markdown",
   "metadata": {},
   "source": [
    "In your **text editor** create a simple script called:\n",
    "\n",
    "```bash\n",
    "my_pandas_01.py```\n",
    "\n",
    "Execute your script in the **IPython interpreter** using the command:\n",
    "\n",
    "```bash\n",
    "run my_pandas_01.py```\n",
    "\n",
    "With a text editor look inside the file `log_file_sign.csv` and try to figure out what the seperating character is.\n",
    "Once you have your seperating character open the file with the pandas read csv by doing the following\n",
    "\n",
    "* Assign the seperator character to the one you found\n",
    "* Skip the rows that are even numbers by using `range()` to count up to 1000 stepping by twos\n",
    "* Index the dataframe by datetime\n",
    "* And then print out the data between the index `2016-01-29T22:27:34` and `2016-01-28T22:34:28`"
   ]
  },
  {
   "cell_type": "markdown",
   "metadata": {},
   "source": [
    "When you complete this exercise, please put your green post-it on your monitor. \n",
    "\n",
    "If you want to continue on at your own-pace, please feel free to do so.\n",
    "\n",
    "<img src='../images/green_sticky.300px.png' width='200' style='float:left'>"
   ]
  },
  {
   "cell_type": "code",
   "execution_count": 3,
   "metadata": {
    "collapsed": false
   },
   "outputs": [],
   "source": [
    "sign_Dframe = pd.read_csv('log_file_sign.csv', \n",
    "                           names=['name', 'email', 'fmip', 'toip',\n",
    "                                  'datetime', 'lat', 'long', 'payload'],\n",
    "                           skiprows=range(0, 1001, 2),\n",
    "                           sep='!',\n",
    "                           index_col='datetime')"
   ]
  },
  {
   "cell_type": "code",
   "execution_count": 8,
   "metadata": {
    "collapsed": false
   },
   "outputs": [
    {
     "data": {
      "text/html": [
       "<div>\n",
       "<table border=\"1\" class=\"dataframe\">\n",
       "  <thead>\n",
       "    <tr style=\"text-align: right;\">\n",
       "      <th></th>\n",
       "      <th>name</th>\n",
       "      <th>email</th>\n",
       "      <th>fmip</th>\n",
       "      <th>toip</th>\n",
       "      <th>lat</th>\n",
       "      <th>long</th>\n",
       "      <th>payload</th>\n",
       "    </tr>\n",
       "    <tr>\n",
       "      <th>datetime</th>\n",
       "      <th></th>\n",
       "      <th></th>\n",
       "      <th></th>\n",
       "      <th></th>\n",
       "      <th></th>\n",
       "      <th></th>\n",
       "      <th></th>\n",
       "    </tr>\n",
       "  </thead>\n",
       "  <tbody>\n",
       "    <tr>\n",
       "      <th>2016-01-29T22:27:34</th>\n",
       "      <td>victor stone</td>\n",
       "      <td>vstone@jleague.org</td>\n",
       "      <td>102.86.56.199</td>\n",
       "      <td>169.28.228.153</td>\n",
       "      <td>45.89511</td>\n",
       "      <td>7.61965</td>\n",
       "      <td>473634</td>\n",
       "    </tr>\n",
       "    <tr>\n",
       "      <th>2016-01-29T22:29:51</th>\n",
       "      <td>selina kyle</td>\n",
       "      <td>skyle@jleague.org</td>\n",
       "      <td>60.15.193.74</td>\n",
       "      <td>106.152.115.161</td>\n",
       "      <td>45.87656</td>\n",
       "      <td>8.68014</td>\n",
       "      <td>921805</td>\n",
       "    </tr>\n",
       "    <tr>\n",
       "      <th>2016-01-29T22:30:12</th>\n",
       "      <td>dick grayson</td>\n",
       "      <td>dgrayson@jleague.org</td>\n",
       "      <td>102.86.56.199</td>\n",
       "      <td>60.15.193.250</td>\n",
       "      <td>48.01602</td>\n",
       "      <td>11.12864</td>\n",
       "      <td>200218</td>\n",
       "    </tr>\n",
       "    <tr>\n",
       "      <th>2016-01-28T22:32:04</th>\n",
       "      <td>arthur curry</td>\n",
       "      <td>acurry@jleague.org</td>\n",
       "      <td>75.122.132.124</td>\n",
       "      <td>220.211.18.12</td>\n",
       "      <td>48.24227</td>\n",
       "      <td>9.27748</td>\n",
       "      <td>772258</td>\n",
       "    </tr>\n",
       "    <tr>\n",
       "      <th>2016-01-28T22:34:28</th>\n",
       "      <td>bruce wayne</td>\n",
       "      <td>bwayne@jleague.org</td>\n",
       "      <td>106.152.114.248</td>\n",
       "      <td>106.152.114.9</td>\n",
       "      <td>45.13783</td>\n",
       "      <td>7.78578</td>\n",
       "      <td>217491</td>\n",
       "    </tr>\n",
       "  </tbody>\n",
       "</table>\n",
       "</div>"
      ],
      "text/plain": [
       "                             name                 email             fmip  \\\n",
       "datetime                                                                   \n",
       "2016-01-29T22:27:34  victor stone    vstone@jleague.org    102.86.56.199   \n",
       "2016-01-29T22:29:51   selina kyle     skyle@jleague.org     60.15.193.74   \n",
       "2016-01-29T22:30:12  dick grayson  dgrayson@jleague.org    102.86.56.199   \n",
       "2016-01-28T22:32:04  arthur curry    acurry@jleague.org   75.122.132.124   \n",
       "2016-01-28T22:34:28   bruce wayne    bwayne@jleague.org  106.152.114.248   \n",
       "\n",
       "                                toip       lat      long  payload  \n",
       "datetime                                                           \n",
       "2016-01-29T22:27:34   169.28.228.153  45.89511   7.61965   473634  \n",
       "2016-01-29T22:29:51  106.152.115.161  45.87656   8.68014   921805  \n",
       "2016-01-29T22:30:12    60.15.193.250  48.01602  11.12864   200218  \n",
       "2016-01-28T22:32:04    220.211.18.12  48.24227   9.27748   772258  \n",
       "2016-01-28T22:34:28    106.152.114.9  45.13783   7.78578   217491  "
      ]
     },
     "execution_count": 8,
     "metadata": {},
     "output_type": "execute_result"
    }
   ],
   "source": [
    "sign_Dframe.loc['2016-01-29T22:27:34':'2016-01-28T22:34:28']"
   ]
  },
  {
   "cell_type": "markdown",
   "metadata": {},
   "source": [
    "# Missing data\n",
    "---"
   ]
  },
  {
   "cell_type": "markdown",
   "metadata": {
    "collapsed": true
   },
   "source": [
    "Some files have missing data or markers indicating that data is not available."
   ]
  },
  {
   "cell_type": "code",
   "execution_count": null,
   "metadata": {
    "collapsed": true
   },
   "outputs": [],
   "source": [
    "data_na = pd.read_csv('log_file_na.csv', \n",
    "                      names=['name', 'email', 'fmip',\n",
    "                             'toip', 'datetime', 'lat',\n",
    "                             'long', 'payload'])\n",
    "\n",
    "data_na\n",
    "# data_na.dropna()"
   ]
  },
  {
   "cell_type": "code",
   "execution_count": null,
   "metadata": {
    "collapsed": true
   },
   "outputs": [],
   "source": []
  },
  {
   "cell_type": "code",
   "execution_count": null,
   "metadata": {
    "collapsed": true
   },
   "outputs": [],
   "source": [
    "# Checking for na status and converting the value to an NaN\n",
    "# flag is a time consuming process that might not be\n",
    "# optimal when loading data.\n",
    "# You _can_ turn this process off"
   ]
  },
  {
   "cell_type": "code",
   "execution_count": null,
   "metadata": {
    "collapsed": true
   },
   "outputs": [],
   "source": [
    "data_na = pd.read_csv('log_file_na.csv', \n",
    "                      names=['name', 'email', 'fmip',\n",
    "                             'toip', 'datetime', 'lat', \n",
    "                             'long', 'payload'],\n",
    "                      na_filter=False)\n",
    "\n",
    "data_na"
   ]
  },
  {
   "cell_type": "code",
   "execution_count": null,
   "metadata": {
    "collapsed": true
   },
   "outputs": [],
   "source": [
    "# You can provide a list of particular values to use\n",
    "# as na values. Some files or software will use sentinels\n",
    "# or flag values to represent a null value.\n",
    "# NOTE: in this case, pandas will combine the na_values\n",
    "# you give with the built-in na values."
   ]
  },
  {
   "cell_type": "code",
   "execution_count": null,
   "metadata": {
    "collapsed": true
   },
   "outputs": [],
   "source": [
    "data_na = pd.read_csv('log_file_na.csv', \n",
    "                      names=['name', 'email', 'fmip',\n",
    "                             'toip', 'datetime', 'lat',\n",
    "                             'long', 'payload'],\n",
    "                      na_values=['', '9999'])\n",
    "data_na"
   ]
  },
  {
   "cell_type": "code",
   "execution_count": null,
   "metadata": {
    "collapsed": true
   },
   "outputs": [],
   "source": [
    "data_na = pd.read_csv('log_file_na.csv', \n",
    "                      names=['name', 'email', 'fmip',\n",
    "                             'toip', 'datetime', 'lat',\n",
    "                             'long', 'payload'],\n",
    "                         na_values=['', '9999'],\n",
    "                         keep_default_na=False)\n",
    "\n",
    "data_na"
   ]
  },
  {
   "cell_type": "code",
   "execution_count": null,
   "metadata": {
    "collapsed": true
   },
   "outputs": [],
   "source": [
    "data_na = pd.read_csv('log_file_na.csv', \n",
    "                      names=['name', 'email', 'fmip',\n",
    "                             'toip', 'datetime', 'lat',\n",
    "                             'long', 'payload'],\n",
    "                      na_values=['', '9999'], \n",
    "                      keep_default_na=False,\n",
    "                      nrows=7)\n",
    "data_na"
   ]
  },
  {
   "cell_type": "code",
   "execution_count": null,
   "metadata": {
    "collapsed": true
   },
   "outputs": [],
   "source": [
    "data = pd.read_csv('log_file.csv', \n",
    "                   names=['name', 'email', 'fmip', \n",
    "                          'toip', 'datetime', 'lat',\n",
    "                          'long', 'payload'],\n",
    "                   chunksize=3)\n",
    "\n",
    "for chunk in data:\n",
    "    print('\\npre-processing')\n",
    "    print('more pre-processing')\n",
    "    print('even more pre-processing')\n",
    "    print(chunk)\n",
    "    print('post processing\\n')"
   ]
  },
  {
   "cell_type": "code",
   "execution_count": null,
   "metadata": {
    "collapsed": true
   },
   "outputs": [],
   "source": [
    "# If you want to convert data in one of your\n",
    "# columns, you can use a dictionary\n",
    "# to define which conversion function(s)\n",
    "# to use against which columns(s)"
   ]
  },
  {
   "cell_type": "code",
   "execution_count": null,
   "metadata": {
    "collapsed": true
   },
   "outputs": [],
   "source": [
    "def dsplitter(address):\n",
    "    userid, domain = address.split('@')\n",
    "    return userid, domain\n",
    "\n",
    "def date_only(datetime):\n",
    "    return datetime.split('T')[0]\n",
    "\n",
    "data = pd.read_csv('log_file.csv', \n",
    "                   names=['name', 'email', 'fmip',\n",
    "                          'toip', 'datetime', 'lat',\n",
    "                          'long', 'payload'],\n",
    "                   converters={'email':dsplitter,\n",
    "                               'datetime':date_only})\n",
    "data"
   ]
  },
  {
   "cell_type": "code",
   "execution_count": null,
   "metadata": {
    "collapsed": true
   },
   "outputs": [],
   "source": [
    "data = pd.read_csv('log_file.csv', \n",
    "                   names=['name', 'email', 'fmip',\n",
    "                          'toip', 'datetime', 'lat',\n",
    "                          'long', 'payload'],\n",
    "                   usecols=['email', 'fmip', 'toip'])\n",
    "\n",
    "data"
   ]
  },
  {
   "cell_type": "code",
   "execution_count": null,
   "metadata": {
    "collapsed": true
   },
   "outputs": [],
   "source": [
    "import sqlite3\n",
    "conn = sqlite3.connect('log_file.sql')\n",
    "cur = conn.cursor()\n",
    "\n",
    "df = pd.read_sql(\"SELECT * FROM superheroes\", conn)\n",
    "df"
   ]
  },
  {
   "cell_type": "code",
   "execution_count": null,
   "metadata": {
    "collapsed": true
   },
   "outputs": [],
   "source": [
    "df1 = pd.read_sql('''SELECT datetime, email, lat, long FROM superheroes\n",
    "                          WHERE name LIKE \"%wayne%\"''', conn)\n",
    "df1"
   ]
  },
  {
   "cell_type": "code",
   "execution_count": null,
   "metadata": {
    "collapsed": true
   },
   "outputs": [],
   "source": [
    "df2 = pd.read_sql('''SELECT datetime, email, lat, long\n",
    "                     FROM superheroes\n",
    "                     WHERE name LIKE \"%wayne%\"''',\n",
    "                  conn,\n",
    "                  index_col='datetime')\n",
    "df2"
   ]
  },
  {
   "cell_type": "code",
   "execution_count": null,
   "metadata": {
    "collapsed": true
   },
   "outputs": [],
   "source": [
    "df2.to_csv('class_out.csv',\n",
    "           cols=['email', 'lat', 'long', 'name'],\n",
    "           header=True, sep='|')"
   ]
  },
  {
   "cell_type": "markdown",
   "metadata": {},
   "source": [
    "# Backups..."
   ]
  },
  {
   "cell_type": "code",
   "execution_count": null,
   "metadata": {
    "collapsed": true
   },
   "outputs": [],
   "source": [
    "webdata.loc[webdata.index[[0, 2, 3]], 'Column5']\n"
   ]
  },
  {
   "cell_type": "markdown",
   "metadata": {},
   "source": [
    "# Experience Points!\n",
    "---"
   ]
  },
  {
   "cell_type": "markdown",
   "metadata": {},
   "source": [
    "In your **text editor** create a simple script called:\n",
    "\n",
    "```bash\n",
    "my_pandas_02.py```\n",
    "\n",
    "Execute your script in the **IPython interpreter** using the command:\n",
    "\n",
    "```bash\n",
    "run my_pandas_02.py```\n",
    "\n",
    "Use pandas to read in from the sql database `log_file.sql` getting only the columns: `lat`, `long`, and `datetime` with only the rows where the name has `barry`\n",
    "\n",
    "Then using the pandas dataframe you've made print the first ten rows"
   ]
  },
  {
   "cell_type": "markdown",
   "metadata": {},
   "source": [
    "When you complete this exercise, please put your green post-it on your monitor. \n",
    "\n",
    "If you want to continue on at your own-pace, please feel free to do so.\n",
    "\n",
    "<img src='../images/green_sticky.300px.png' width='200' style='float:left'>"
   ]
  },
  {
   "cell_type": "code",
   "execution_count": 13,
   "metadata": {
    "collapsed": false
   },
   "outputs": [
    {
     "data": {
      "text/html": [
       "<div>\n",
       "<table border=\"1\" class=\"dataframe\">\n",
       "  <thead>\n",
       "    <tr style=\"text-align: right;\">\n",
       "      <th></th>\n",
       "      <th>lat</th>\n",
       "      <th>long</th>\n",
       "      <th>datetime</th>\n",
       "    </tr>\n",
       "  </thead>\n",
       "  <tbody>\n",
       "    <tr>\n",
       "      <th>0</th>\n",
       "      <td>49.30464</td>\n",
       "      <td>10.3254</td>\n",
       "      <td>2016-02-07T22:00:29</td>\n",
       "    </tr>\n",
       "    <tr>\n",
       "      <th>1</th>\n",
       "      <td>46.72098</td>\n",
       "      <td>9.48699</td>\n",
       "      <td>2016-02-07T22:15:35</td>\n",
       "    </tr>\n",
       "    <tr>\n",
       "      <th>2</th>\n",
       "      <td>49.28576</td>\n",
       "      <td>7.50481</td>\n",
       "      <td>2016-01-29T23:12:24</td>\n",
       "    </tr>\n",
       "    <tr>\n",
       "      <th>3</th>\n",
       "      <td>45.85451</td>\n",
       "      <td>10.54693</td>\n",
       "      <td>2016-01-23T23:30:29</td>\n",
       "    </tr>\n",
       "    <tr>\n",
       "      <th>4</th>\n",
       "      <td>49.06199</td>\n",
       "      <td>8.9948</td>\n",
       "      <td>2016-01-20T23:38:00</td>\n",
       "    </tr>\n",
       "    <tr>\n",
       "      <th>5</th>\n",
       "      <td>48.53909</td>\n",
       "      <td>9.927</td>\n",
       "      <td>2016-01-16T00:02:07</td>\n",
       "    </tr>\n",
       "    <tr>\n",
       "      <th>6</th>\n",
       "      <td>45.26674</td>\n",
       "      <td>7.57107</td>\n",
       "      <td>2016-01-14T00:15:46</td>\n",
       "    </tr>\n",
       "    <tr>\n",
       "      <th>7</th>\n",
       "      <td>49.43146</td>\n",
       "      <td>12.34828</td>\n",
       "      <td>2016-01-14T00:24:31</td>\n",
       "    </tr>\n",
       "    <tr>\n",
       "      <th>8</th>\n",
       "      <td>46.183</td>\n",
       "      <td>9.19662</td>\n",
       "      <td>2016-01-13T00:27:52</td>\n",
       "    </tr>\n",
       "    <tr>\n",
       "      <th>9</th>\n",
       "      <td>47.5667</td>\n",
       "      <td>9.66882</td>\n",
       "      <td>2016-01-12T00:30:15</td>\n",
       "    </tr>\n",
       "  </tbody>\n",
       "</table>\n",
       "</div>"
      ],
      "text/plain": [
       "        lat      long             datetime\n",
       "0  49.30464   10.3254  2016-02-07T22:00:29\n",
       "1  46.72098   9.48699  2016-02-07T22:15:35\n",
       "2  49.28576   7.50481  2016-01-29T23:12:24\n",
       "3  45.85451  10.54693  2016-01-23T23:30:29\n",
       "4  49.06199    8.9948  2016-01-20T23:38:00\n",
       "5  48.53909     9.927  2016-01-16T00:02:07\n",
       "6  45.26674   7.57107  2016-01-14T00:15:46\n",
       "7  49.43146  12.34828  2016-01-14T00:24:31\n",
       "8    46.183   9.19662  2016-01-13T00:27:52\n",
       "9   47.5667   9.66882  2016-01-12T00:30:15"
      ]
     },
     "execution_count": 13,
     "metadata": {},
     "output_type": "execute_result"
    }
   ],
   "source": [
    "import sqlite3\n",
    "conn = sqlite3.connect('log_file.sql')\n",
    "cur = conn.cursor()\n",
    "\n",
    "df = pd.read_sql('SELECT lat, long, datetime FROM superheroes WHERE name LIKE \"%barr%\"', conn)\n",
    "df.head(10)"
   ]
  },
  {
   "cell_type": "code",
   "execution_count": null,
   "metadata": {
    "collapsed": true
   },
   "outputs": [],
   "source": []
  }
 ],
 "metadata": {
  "kernelspec": {
   "display_name": "Python 3",
   "language": "python",
   "name": "python3"
  },
  "language_info": {
   "codemirror_mode": {
    "name": "ipython",
    "version": 3
   },
   "file_extension": ".py",
   "mimetype": "text/x-python",
   "name": "python",
   "nbconvert_exporter": "python",
   "pygments_lexer": "ipython3",
   "version": "3.4.5"
  }
 },
 "nbformat": 4,
 "nbformat_minor": 2
}
